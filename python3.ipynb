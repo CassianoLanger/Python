{
  "nbformat": 4,
  "nbformat_minor": 0,
  "metadata": {
    "colab": {
      "name": "python3.ipynb",
      "provenance": [],
      "collapsed_sections": [],
      "authorship_tag": "ABX9TyMtB32mJ2in6l4ApsB4Csbx",
      "include_colab_link": true
    },
    "kernelspec": {
      "name": "python3",
      "display_name": "Python 3"
    },
    "language_info": {
      "name": "python"
    }
  },
  "cells": [
    {
      "cell_type": "markdown",
      "metadata": {
        "id": "view-in-github",
        "colab_type": "text"
      },
      "source": [
        "<a href=\"https://colab.research.google.com/github/CassianoLanger/Python/blob/main/python3.ipynb\" target=\"_parent\"><img src=\"https://colab.research.google.com/assets/colab-badge.svg\" alt=\"Open In Colab\"/></a>"
      ]
    },
    {
      "cell_type": "markdown",
      "source": [
        "**if / else / elif**\n",
        "\n"
      ],
      "metadata": {
        "id": "qxjfU2owcWDy"
      }
    },
    {
      "cell_type": "code",
      "source": [
        "comando = False\n",
        "\n",
        "if comando == True:\n",
        "  print(\"verdadeiro\")\n",
        "else:\n",
        "  print(\"falso\")"
      ],
      "metadata": {
        "colab": {
          "base_uri": "https://localhost:8080/"
        },
        "id": "Ap5CrDyccakI",
        "outputId": "3fd96e0d-0718-48a9-d075-499044925421"
      },
      "execution_count": 3,
      "outputs": [
        {
          "output_type": "stream",
          "name": "stdout",
          "text": [
            "falso\n"
          ]
        }
      ]
    },
    {
      "cell_type": "code",
      "source": [
        "codigo_de_seguranca = '159'\n",
        "codigo_cadastrado = '896'\n",
        "\n",
        "if codigo_de_seguranca == codigo_cadastrado:\n",
        "  print(\"Pode comprar\")\n",
        "else:\n",
        "  print(\"Erro: codigo de segurança inválido\")"
      ],
      "metadata": {
        "colab": {
          "base_uri": "https://localhost:8080/"
        },
        "id": "XdUuvH_ad6qO",
        "outputId": "f1abfab4-8691-4a5d-c022-5f869f622477"
      },
      "execution_count": 5,
      "outputs": [
        {
          "output_type": "stream",
          "name": "stdout",
          "text": [
            "Erro: codigo de segurança inválido\n"
          ]
        }
      ]
    },
    {
      "cell_type": "code",
      "source": [
        "senha = '12345'\n",
        "senha_cadastrada = '147852'\n",
        "\n",
        "if (senha == senha_cadastrada) & (codigo_cadastrado == codigo_de_seguranca):\n",
        "  print('compra autorizada')\n",
        "else:\n",
        "  print('Erro: dados invalidos')"
      ],
      "metadata": {
        "colab": {
          "base_uri": "https://localhost:8080/"
        },
        "id": "2Lpc3okUfgWI",
        "outputId": "88bc5ec8-e641-4e1f-8515-da65c0346f67"
      },
      "execution_count": 7,
      "outputs": [
        {
          "output_type": "stream",
          "name": "stdout",
          "text": [
            "Erro: dados invalidos\n"
          ]
        }
      ]
    },
    {
      "cell_type": "code",
      "source": [
        "senha = '147852'\n",
        "senha_cadastrada = '147852'\n",
        "\n",
        "codigo_de_seguranca = '159'\n",
        "codigo_cadastrado = '896'\n",
        "\n",
        "if (senha != senha_cadastrada) | (codigo_cadastrado != codigo_de_seguranca):\n",
        "  print('Erro: dados invalidos')\n",
        "else:\n",
        "  print('compra autorizada')"
      ],
      "metadata": {
        "colab": {
          "base_uri": "https://localhost:8080/"
        },
        "id": "7q4DJQycgFdo",
        "outputId": "578d4476-d2be-4c21-8b74-ebfe762a0602"
      },
      "execution_count": 10,
      "outputs": [
        {
          "output_type": "stream",
          "name": "stdout",
          "text": [
            "Erro: dados invalidos\n"
          ]
        }
      ]
    },
    {
      "cell_type": "code",
      "source": [
        "senha = '147852'\n",
        "senha_cadastrada = '147852'\n",
        "\n",
        "codigo_de_seguranca = '159'\n",
        "codigo_cadastrado = '896'\n",
        "\n",
        "if(senha == senha_cadastrada) & (codigo_cadastrado == codigo_de_seguranca):\n",
        "  print('pagamento efetuado')\n",
        "elif(senha != senha_cadastrada) & (codigo_de_seguranca == codigo_cadastrado):\n",
        "  print('senha invalida')\n",
        "else:\n",
        "  print('codigo invalido')"
      ],
      "metadata": {
        "colab": {
          "base_uri": "https://localhost:8080/"
        },
        "id": "mycE75y5h7zo",
        "outputId": "20b62511-3859-47e5-f07c-81c1960bccdd"
      },
      "execution_count": 12,
      "outputs": [
        {
          "output_type": "stream",
          "name": "stdout",
          "text": [
            "codigo invalido\n"
          ]
        }
      ]
    },
    {
      "cell_type": "markdown",
      "source": [
        "**Try / except / finally**"
      ],
      "metadata": {
        "id": "l8akYyctxUMs"
      }
    },
    {
      "cell_type": "code",
      "source": [
        "preco = 132.85\n",
        "pessoas = 0\n",
        "\n",
        "try:\n",
        "   valor_por_pessoa = preco / pessoas\n",
        "   print(valor_por_pessoa)\n",
        "except ZeroDivisionError:\n",
        "    print(\"Numero de pessoas invalido. Espera-se valor superior a zero e obteve-se:\" + str(pessoas))"
      ],
      "metadata": {
        "colab": {
          "base_uri": "https://localhost:8080/"
        },
        "id": "m55vJEFz0h1V",
        "outputId": "20328f5a-fcf6-4d82-b5ec-58f0102916e6"
      },
      "execution_count": 14,
      "outputs": [
        {
          "output_type": "stream",
          "name": "stdout",
          "text": [
            "Numero de pessoas invalido. Espera-se valor superior a zero e obteve-se:0\n"
          ]
        }
      ]
    },
    {
      "cell_type": "code",
      "source": [
        "anos = [2010, 2015, 2022]\n",
        "\n",
        "try:\n",
        "  ano_atual = anos[3]\n",
        "  print(ano_atual)\n",
        "except Exception as exc:\n",
        "  print(\"Descrição da exceção: \" + str(exc))\n",
        "  print(\"Tipo de erro\" + str(type(exc)))\n",
        "  print(\"valor a ser escolhido deve ser entre 0 e \" + str(len(anos)-1))"
      ],
      "metadata": {
        "colab": {
          "base_uri": "https://localhost:8080/"
        },
        "id": "S0Q3dtQr7G3t",
        "outputId": "99d8d6b0-68ff-430e-832a-97ed8072f469"
      },
      "execution_count": 18,
      "outputs": [
        {
          "output_type": "stream",
          "name": "stdout",
          "text": [
            "Descrição da exceção: list index out of range\n",
            "Tipo de erro<class 'IndexError'>\n",
            "valor a ser escolhido deve ser entre 0 e 2\n"
          ]
        }
      ]
    },
    {
      "cell_type": "markdown",
      "source": [
        "sempre tratar erro principal e depois o genérico "
      ],
      "metadata": {
        "id": "4r4qDXsh9_7l"
      }
    },
    {
      "cell_type": "code",
      "source": [
        "anos = [2010, 2015, 2022]\n",
        "\n",
        "try:\n",
        "  ano_atual = anos[3]\n",
        "  print(ano_atual)\n",
        "\n",
        "except IndexError:\n",
        "  print(\"valor a ser escolhido deve ser entre 0 e \" + str(len(anos)-1))\n",
        "\n",
        "except Exception as exc:\n",
        "  print(\"Descrição da exceção: \" + str(exc))\n",
        "  print(\"Tipo de erro\" + str(type(exc)))\n",
        "  "
      ],
      "metadata": {
        "colab": {
          "base_uri": "https://localhost:8080/"
        },
        "id": "NwcE2DWv9mmP",
        "outputId": "4e636375-ed0f-4d1e-8c76-74901c00a76c"
      },
      "execution_count": 19,
      "outputs": [
        {
          "output_type": "stream",
          "name": "stdout",
          "text": [
            "valor a ser escolhido deve ser entre 0 e 2\n"
          ]
        }
      ]
    },
    {
      "cell_type": "code",
      "source": [
        "nome = \"carlos\"\n",
        "idade = 28\n",
        "\n",
        "try:\n",
        "  apresentacao = \"ola, meu nome é \" +nome+ \"e tenho\" + idade + \" anos\"\n",
        "  print(\"ola, meu nome é \" +nome+ \"e tenho\" + idade + \"anos\")\n",
        "except TypeError:\n",
        "  idade = str(idade)\n",
        "finally:\n",
        "  print(\"segunda chance\")\n",
        "  apresentacao = \"ola, meu nome é \" +nome+ \"e tenho \" + idade + \" anos\"\n",
        "  print(apresentacao)"
      ],
      "metadata": {
        "colab": {
          "base_uri": "https://localhost:8080/"
        },
        "id": "XjV41ONuA3YK",
        "outputId": "cdc5ff65-11af-4631-fa82-7a236192e5b0"
      },
      "execution_count": 26,
      "outputs": [
        {
          "output_type": "stream",
          "name": "stdout",
          "text": [
            "segunda chance\n",
            "ola, meu nome é carlose tenho 28 anos\n"
          ]
        }
      ]
    },
    {
      "cell_type": "markdown",
      "source": [
        "**For / In / Range**"
      ],
      "metadata": {
        "id": "2QOFA7a0C50X"
      }
    },
    {
      "cell_type": "code",
      "source": [
        " for valor in range(6):\n",
        "   print(valor)"
      ],
      "metadata": {
        "colab": {
          "base_uri": "https://localhost:8080/"
        },
        "id": "Mhuyh0M-C9GC",
        "outputId": "e57ad9c3-71af-4819-eade-5605d2e45596"
      },
      "execution_count": 27,
      "outputs": [
        {
          "output_type": "stream",
          "name": "stdout",
          "text": [
            "0\n",
            "1\n",
            "2\n",
            "3\n",
            "4\n",
            "5\n"
          ]
        }
      ]
    },
    {
      "cell_type": "code",
      "source": [
        "soma = 0\n",
        "for valor in range(0,10):\n",
        "  soma += valor\n",
        "  print(soma)"
      ],
      "metadata": {
        "colab": {
          "base_uri": "https://localhost:8080/"
        },
        "id": "4iqRzuEAD7q-",
        "outputId": "5aedfd35-50f1-4f34-a30e-0cb0b95dff20"
      },
      "execution_count": 30,
      "outputs": [
        {
          "output_type": "stream",
          "name": "stdout",
          "text": [
            "0\n",
            "1\n",
            "3\n",
            "6\n",
            "10\n",
            "15\n",
            "21\n",
            "28\n",
            "36\n",
            "45\n"
          ]
        }
      ]
    },
    {
      "cell_type": "code",
      "source": [
        "for multiplos_dois in range (2,11,2):\n",
        "  print(multiplos_dois)"
      ],
      "metadata": {
        "colab": {
          "base_uri": "https://localhost:8080/"
        },
        "id": "dVCdNyehFIcN",
        "outputId": "8a7e6057-1721-4946-b6e0-d6b9f51f4efa"
      },
      "execution_count": 32,
      "outputs": [
        {
          "output_type": "stream",
          "name": "stdout",
          "text": [
            "2\n",
            "4\n",
            "6\n",
            "8\n",
            "10\n"
          ]
        }
      ]
    },
    {
      "cell_type": "code",
      "source": [
        "frutas = ['maça','banana','manga','uva']\n",
        "for fruta in frutas:\n",
        "  print(fruta)"
      ],
      "metadata": {
        "colab": {
          "base_uri": "https://localhost:8080/"
        },
        "id": "kpHMjFuCGNIY",
        "outputId": "93feb5ba-106a-42ab-bac2-42981deed9c1"
      },
      "execution_count": 33,
      "outputs": [
        {
          "output_type": "stream",
          "name": "stdout",
          "text": [
            "maça\n",
            "banana\n",
            "manga\n",
            "uva\n"
          ]
        }
      ]
    },
    {
      "cell_type": "code",
      "source": [
        "frase = \"Fala pessoal, meu nome é André\"\n",
        "\n",
        "for caracter in frase:\n",
        "  if (caracter == \"A\") | (caracter == \"z\"):\n",
        "    print(f\"É a letra {caracter}\")"
      ],
      "metadata": {
        "colab": {
          "base_uri": "https://localhost:8080/"
        },
        "id": "h7Cc1DYH3yZl",
        "outputId": "687fdc03-e388-4f7d-9284-2406070249b5"
      },
      "execution_count": 4,
      "outputs": [
        {
          "output_type": "stream",
          "name": "stdout",
          "text": [
            "É a letra A\n"
          ]
        }
      ]
    },
    {
      "cell_type": "code",
      "source": [
        "credito = {'123': 950 , '456': 740 , '789': 655}\n",
        "\n",
        "for chave,valor in credito.items():\n",
        "  print(f\"cpf: {chave} e score: {valor}\")\n",
        "  print(\"\\n\")"
      ],
      "metadata": {
        "colab": {
          "base_uri": "https://localhost:8080/"
        },
        "id": "1iifTTG05Ep0",
        "outputId": "65a51d6c-96a8-448c-d311-11413363f733"
      },
      "execution_count": 5,
      "outputs": [
        {
          "output_type": "stream",
          "name": "stdout",
          "text": [
            "cpf: 123 e score: 950\n",
            "\n",
            "\n",
            "cpf: 456 e score: 740\n",
            "\n",
            "\n",
            "cpf: 789 e score: 655\n",
            "\n",
            "\n"
          ]
        }
      ]
    },
    {
      "cell_type": "code",
      "source": [
        "credito = {'123': 950 , '456': 740 , '789': 655}\n",
        "for chave in credito.keys():\n",
        "  print(chave)\n",
        "  print(credito[chave])\n",
        "  print(f'chave: {chave} e valor: {credito[chave]}')\n",
        "  print('\\n')"
      ],
      "metadata": {
        "colab": {
          "base_uri": "https://localhost:8080/"
        },
        "id": "Jasnkhep50ZI",
        "outputId": "562d9470-9cda-44ca-9447-9b932131e376"
      },
      "execution_count": 21,
      "outputs": [
        {
          "output_type": "stream",
          "name": "stdout",
          "text": [
            "123\n",
            "950\n",
            "chave: 123 e valor: 950\n",
            "\n",
            "\n",
            "456\n",
            "740\n",
            "chave: 456 e valor: 740\n",
            "\n",
            "\n",
            "789\n",
            "655\n",
            "chave: 789 e valor: 655\n",
            "\n",
            "\n"
          ]
        }
      ]
    },
    {
      "cell_type": "code",
      "source": [
        "for valor in credito.values():\n",
        "  print(valor)\n",
        "  print(f'valor: {valor}, mas perdemos as referencias das chaves :(' )\n",
        "  print('\\n')"
      ],
      "metadata": {
        "colab": {
          "base_uri": "https://localhost:8080/"
        },
        "id": "aSYZOyMqI3Zn",
        "outputId": "9ba69f30-b449-49d3-ff39-ac87b46f78e2"
      },
      "execution_count": 23,
      "outputs": [
        {
          "output_type": "stream",
          "name": "stdout",
          "text": [
            "950\n",
            "valor: 950, mas perdemos as referencias das chaves :(\n",
            "\n",
            "\n",
            "740\n",
            "valor: 740, mas perdemos as referencias das chaves :(\n",
            "\n",
            "\n",
            "655\n",
            "valor: 655, mas perdemos as referencias das chaves :(\n",
            "\n",
            "\n"
          ]
        }
      ]
    },
    {
      "cell_type": "code",
      "source": [
        "for i in range(0, 100000000000000000000):\n",
        "  print(i)\n",
        "  if i == 10:\n",
        "    break"
      ],
      "metadata": {
        "colab": {
          "base_uri": "https://localhost:8080/"
        },
        "id": "VxRlbD7RJkD3",
        "outputId": "26bb2e92-793e-48cd-a980-3d08dfa54c1f"
      },
      "execution_count": 24,
      "outputs": [
        {
          "output_type": "stream",
          "name": "stdout",
          "text": [
            "0\n",
            "1\n",
            "2\n",
            "3\n",
            "4\n",
            "5\n",
            "6\n",
            "7\n",
            "8\n",
            "9\n",
            "10\n"
          ]
        }
      ]
    },
    {
      "cell_type": "code",
      "source": [
        "numeros = [357, 777 ,122, 958 , 666 , 656 ,131 , 177]\n",
        "\n",
        "for numero in numeros:\n",
        "  if numero % 2 == 0:\n",
        "    print(f'o {numero} é par')\n",
        "    break\n",
        "  else:\n",
        "    print(f'o {numero} numero é impar')"
      ],
      "metadata": {
        "colab": {
          "base_uri": "https://localhost:8080/"
        },
        "id": "GV4yRdlOLNWN",
        "outputId": "4b84d7aa-7398-4e46-b5be-ea337319096e"
      },
      "execution_count": 27,
      "outputs": [
        {
          "output_type": "stream",
          "name": "stdout",
          "text": [
            "o 357 numero é impar\n",
            "o 777 numero é impar\n",
            "o 122 é par\n"
          ]
        }
      ]
    },
    {
      "cell_type": "code",
      "source": [
        "numeros = [357, 777 ,122, 958 , 666 , 656 ,131 , 177]\n",
        "for numero in numeros:\n",
        "  if numero % 2 == 0:\n",
        "    print(f'o {numero} é par')\n",
        "    break\n",
        "  else:\n",
        "    continue\n",
        "    print(f'o {numero} numero é impar')"
      ],
      "metadata": {
        "colab": {
          "base_uri": "https://localhost:8080/"
        },
        "id": "kGWGLo2uNE-k",
        "outputId": "3d40e0d6-cdfb-4d8b-f6a1-fae318b334fc"
      },
      "execution_count": 28,
      "outputs": [
        {
          "output_type": "stream",
          "name": "stdout",
          "text": [
            "o 122 é par\n"
          ]
        }
      ]
    }
  ]
}