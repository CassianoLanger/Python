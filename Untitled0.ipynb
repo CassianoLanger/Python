{
  "nbformat": 4,
  "nbformat_minor": 0,
  "metadata": {
    "colab": {
      "name": "Untitled0.ipynb",
      "provenance": [],
      "collapsed_sections": [],
      "toc_visible": true,
      "authorship_tag": "ABX9TyM85x70j4krpBz1G1jCbLWc",
      "include_colab_link": true
    },
    "kernelspec": {
      "name": "python3",
      "display_name": "Python 3"
    },
    "language_info": {
      "name": "python"
    }
  },
  "cells": [
    {
      "cell_type": "markdown",
      "metadata": {
        "id": "view-in-github",
        "colab_type": "text"
      },
      "source": [
        "<a href=\"https://colab.research.google.com/github/CassianoLanger/CassianoLanger/blob/main/Untitled0.ipynb\" target=\"_parent\"><img src=\"https://colab.research.google.com/assets/colab-badge.svg\" alt=\"Open In Colab\"/></a>"
      ]
    },
    {
      "cell_type": "markdown",
      "source": [
        "**Python basico 1**"
      ],
      "metadata": {
        "id": "R5qCnMxmNyaz"
      }
    },
    {
      "cell_type": "markdown",
      "source": [
        "**PRINT**"
      ],
      "metadata": {
        "id": "_ec9-DTU8x4c"
      }
    },
    {
      "cell_type": "code",
      "execution_count": null,
      "metadata": {
        "colab": {
          "base_uri": "https://localhost:8080/"
        },
        "id": "NFaM_wa863KO",
        "outputId": "ca4b22d8-4e13-4fc3-ff24-153c2b663b6b"
      },
      "outputs": [
        {
          "output_type": "stream",
          "name": "stdout",
          "text": [
            "Hello Wolrd!!\n"
          ]
        }
      ],
      "source": [
        "print(\"Hello Wolrd!!\")"
      ]
    },
    {
      "cell_type": "markdown",
      "source": [
        "**VARIAVEIS**"
      ],
      "metadata": {
        "id": "MOD2A7Uw88lB"
      }
    },
    {
      "cell_type": "code",
      "source": [
        "age = 26\n",
        "print(age)\n",
        "name = \"Ricardo\"\n",
        "print(name)"
      ],
      "metadata": {
        "colab": {
          "base_uri": "https://localhost:8080/"
        },
        "id": "-H3l2JWF8bC9",
        "outputId": "d64a4539-d9c9-4034-9666-ba71b8c9078d"
      },
      "execution_count": 20,
      "outputs": [
        {
          "output_type": "stream",
          "name": "stdout",
          "text": [
            "26\n",
            "Ricardo\n"
          ]
        }
      ]
    },
    {
      "cell_type": "code",
      "source": [
        "banana_price = 10000\n",
        "fees = 0.06\n",
        "fees_type = type(fees)\n",
        "price_type = type(banana_price)\n",
        "\n",
        "print(banana_price)\n",
        "print(price_type)\n",
        "print(fees)\n",
        "print(fees_type)\n",
        "\n",
        "print(name)\n",
        "print(type(name))"
      ],
      "metadata": {
        "colab": {
          "base_uri": "https://localhost:8080/"
        },
        "id": "FK6G0JKq9MsS",
        "outputId": "bfbe408c-ef14-45fd-b9cc-143edde094e7"
      },
      "execution_count": null,
      "outputs": [
        {
          "output_type": "stream",
          "name": "stdout",
          "text": [
            "10000\n",
            "<class 'int'>\n",
            "0.06\n",
            "<class 'float'>\n",
            "Cassiano\n",
            "<class 'str'>\n"
          ]
        }
      ]
    },
    {
      "cell_type": "markdown",
      "source": [
        "Tipos booleanos, true e false"
      ],
      "metadata": {
        "id": "9lB58M7w_KiY"
      }
    },
    {
      "cell_type": "code",
      "source": [
        "user_underage = False\n",
        "print(user_underage)\n",
        "print(type(user_underage))"
      ],
      "metadata": {
        "colab": {
          "base_uri": "https://localhost:8080/"
        },
        "id": "LyhBzSCq_KFE",
        "outputId": "a3dba85b-b474-4bcb-c04d-a34544f8f3e7"
      },
      "execution_count": 19,
      "outputs": [
        {
          "output_type": "stream",
          "name": "stdout",
          "text": [
            "False\n",
            "<class 'bool'>\n"
          ]
        }
      ]
    },
    {
      "cell_type": "markdown",
      "source": [
        "None type, valor vazio\n"
      ],
      "metadata": {
        "id": "VsRb_BiH_ygc"
      }
    },
    {
      "cell_type": "code",
      "source": [
        "cellphone = True\n",
        "telephone = None\n",
        "\n",
        "print(cellphone)\n",
        "print(type(cellphone))\n",
        "print(telephone)\n",
        "print(type(telephone))"
      ],
      "metadata": {
        "colab": {
          "base_uri": "https://localhost:8080/"
        },
        "id": "mHBNm426_01r",
        "outputId": "b34eee00-1590-442a-8186-644f55912728"
      },
      "execution_count": null,
      "outputs": [
        {
          "output_type": "stream",
          "name": "stdout",
          "text": [
            "True\n",
            "<class 'bool'>\n",
            "None\n",
            "<class 'NoneType'>\n"
          ]
        }
      ]
    },
    {
      "cell_type": "markdown",
      "source": [
        "Python tbm possui numeros complexos(complex)"
      ],
      "metadata": {
        "id": "70WTt8x0BAZi"
      }
    },
    {
      "cell_type": "code",
      "source": [
        "print(type(1+2j))"
      ],
      "metadata": {
        "colab": {
          "base_uri": "https://localhost:8080/"
        },
        "id": "D0Sk4sJaBFb6",
        "outputId": "91a2dfd0-e36e-4978-8624-a9f25e1b2e8a"
      },
      "execution_count": null,
      "outputs": [
        {
          "output_type": "stream",
          "name": "stdout",
          "text": [
            "<class 'complex'>\n"
          ]
        }
      ]
    },
    {
      "cell_type": "markdown",
      "source": [
        "OPERADOR NUMÉRICO"
      ],
      "metadata": {
        "id": "WxRTW2-uCMsL"
      }
    },
    {
      "cell_type": "code",
      "source": [
        "carrinho_de_compra = 0\n",
        "carrinho_de_compra += 2\n",
        "print(carrinho_de_compra)\n",
        "carrinho_de_compra -=1\n",
        "print(carrinho_de_compra)\n",
        "print(\"-----------------------\")\n",
        "price = 2750\n",
        "new_fees = 0.25\n",
        "total = price * new_fees\n",
        "print(total)\n",
        "divisao=5/3\n",
        "print(divisao)\n",
        "print(type(divisao))\n",
        "divisao_inteira=5//3\n",
        "print(divisao_inteira)\n",
        "print(type(divisao_inteira))"
      ],
      "metadata": {
        "colab": {
          "base_uri": "https://localhost:8080/"
        },
        "id": "jBBiIC9FCO_r",
        "outputId": "9aa4899f-1fee-4d85-d2f8-15f9d74e88fb"
      },
      "execution_count": null,
      "outputs": [
        {
          "output_type": "stream",
          "name": "stdout",
          "text": [
            "2\n",
            "1\n",
            "-----------------------\n",
            "687.5\n",
            "1.6666666666666667\n",
            "<class 'float'>\n",
            "1\n",
            "<class 'int'>\n"
          ]
        }
      ]
    },
    {
      "cell_type": "markdown",
      "source": [
        "conversão de valor"
      ],
      "metadata": {
        "id": "q6qog9EhEQ0o"
      }
    },
    {
      "cell_type": "code",
      "source": [
        "print(int(total))\n",
        "print(float(3))\n",
        "print(complex(3))"
      ],
      "metadata": {
        "colab": {
          "base_uri": "https://localhost:8080/"
        },
        "id": "NsUVNVyRES2g",
        "outputId": "cd451438-55fe-4728-fc4c-d1f3c0b4e937"
      },
      "execution_count": null,
      "outputs": [
        {
          "output_type": "stream",
          "name": "stdout",
          "text": [
            "687\n",
            "3.0\n",
            "(3+0j)\n"
          ]
        }
      ]
    },
    {
      "cell_type": "markdown",
      "source": [
        "concatenação\n"
      ],
      "metadata": {
        "id": "QuMkDZiHG_Rg"
      }
    },
    {
      "cell_type": "code",
      "source": [
        "middle_name=\"Silva\"\n",
        "last_name=\"Moraes\"\n",
        "\n",
        "full_name=name +\" \"+middle_name +\" \"+last_name\n",
        "print(full_name)\n",
        "apresentacao= f\"Hi, name is {full_name}\"\n",
        "print(apresentacao)"
      ],
      "metadata": {
        "colab": {
          "base_uri": "https://localhost:8080/"
        },
        "id": "YbZJ2tb-HAkf",
        "outputId": "0c1b5118-ec42-4b42-8c85-200d334c225d"
      },
      "execution_count": 21,
      "outputs": [
        {
          "output_type": "stream",
          "name": "stdout",
          "text": [
            "Ricardo Silva Moraes\n",
            "Hi, name is Ricardo Silva Moraes\n"
          ]
        }
      ]
    },
    {
      "cell_type": "markdown",
      "source": [
        "Fatiamento"
      ],
      "metadata": {
        "id": "xSDcH5MxH22r"
      }
    },
    {
      "cell_type": "code",
      "source": [
        "email=\"ricardo.silva@gmail.com\"\n",
        "print(f\"0: {email[0]}\")\n",
        "print(\"1: \" + email[1])\n",
        "\n",
        "new_email = name[0]+middle_name[0:6] + \"@gmail.com sim\"\n",
        "print(new_email.lower())\n",
        "print(new_email.find('sim'))\n",
        "print(new_email.upper())\n",
        "print(new_email.replace('sim','não'))\n",
        "print(\"----------------------------\")\n",
        "\n"
      ],
      "metadata": {
        "colab": {
          "base_uri": "https://localhost:8080/"
        },
        "id": "DQ-COcOOH4aa",
        "outputId": "16b44e86-f590-4e2e-b5cc-a7d9a6623ca1"
      },
      "execution_count": 23,
      "outputs": [
        {
          "output_type": "stream",
          "name": "stdout",
          "text": [
            "0: r\n",
            "1: i\n",
            "rsilva@gmail.com sim\n",
            "17\n",
            "RSILVA@GMAIL.COM SIM\n",
            "RSilva@gmail.com não\n",
            "----------------------------\n"
          ]
        }
      ]
    },
    {
      "cell_type": "code",
      "source": [
        "numero=\"R$ 35 mil\"\n",
        "print(numero)\n",
        "print(numero.find(\"35\"))\n",
        "novo_numero=int(numero[3:5])\n",
        "print(novo_numero)\n",
        "soma_qualquer = novo_numero + 1\n",
        "print(soma_qualquer)"
      ],
      "metadata": {
        "colab": {
          "base_uri": "https://localhost:8080/"
        },
        "id": "UmGh90jJMCsI",
        "outputId": "b66be004-4516-4976-ccf6-30748b427881"
      },
      "execution_count": null,
      "outputs": [
        {
          "output_type": "stream",
          "name": "stdout",
          "text": [
            "R$ 35 mil\n",
            "3\n",
            "35\n",
            "36\n"
          ]
        }
      ]
    },
    {
      "cell_type": "markdown",
      "source": [
        "**Trabalhando com as Strings**"
      ],
      "metadata": {
        "id": "yyLmZCxkeSVQ"
      }
    },
    {
      "cell_type": "code",
      "source": [
        "latlon = 'abc ; wyz'\n",
        "posicao_char = latlon.find(\";\") \n",
        "lat = latlon[0:posicao_char]\n",
        "print(lat)\n",
        "lon = latlon[posicao_char+1:len(latlon)]\n",
        "print(lon)\n"
      ],
      "metadata": {
        "colab": {
          "base_uri": "https://localhost:8080/"
        },
        "id": "z6xLc7HZd4xM",
        "outputId": "c0436b07-f1e4-49e7-c05b-2daccd9d6f5b"
      },
      "execution_count": 7,
      "outputs": [
        {
          "output_type": "stream",
          "name": "stdout",
          "text": [
            "abc \n",
            " wyz\n"
          ]
        }
      ]
    },
    {
      "cell_type": "markdown",
      "source": [
        "**BOLEANOS**"
      ],
      "metadata": {
        "id": "xaDJSJIbgBJm"
      }
    },
    {
      "cell_type": "code",
      "source": [
        "saldo = 601\n",
        "saque = 600\n",
        "\n",
        "pode_sacar = saldo >= saque\n",
        "print(pode_sacar)\n",
        "\n",
        "print(\"_______________________\")\n",
        "\n",
        "codigo_seguranca_cartao = \"852\"\n",
        "codigo_validacao = \"010\"\n",
        "\n",
        "efetuar_compra = codigo_seguranca_cartao == codigo_validacao\n",
        "print(efetuar_compra)\n",
        "\n",
        "print(\"_______________________\")\n",
        "\n",
        "usuario_cadastro =\"cassiano123\"\n",
        "senha_cadastro=\"159\"\n",
        "usuario_acesso = \"cassiano123\"\n",
        "senha_acesso = \"123\"\n",
        "\n",
        "usuario_igual = usuario_cadastro == usuario_acesso\n",
        "senha_igual = senha_cadastro == senha_acesso\n",
        "acesso = usuario_igual & senha_igual\n",
        "print(acesso)\n",
        "\n"
      ],
      "metadata": {
        "colab": {
          "base_uri": "https://localhost:8080/"
        },
        "id": "p1Uw4lixgCr8",
        "outputId": "9f226551-fec2-4a06-8a57-fb7b103a83dc"
      },
      "execution_count": 18,
      "outputs": [
        {
          "output_type": "stream",
          "name": "stdout",
          "text": [
            "True\n",
            "_______________________\n",
            "False\n",
            "_______________________\n",
            "False\n"
          ]
        }
      ]
    },
    {
      "cell_type": "markdown",
      "source": [
        "**VALOR BOOLEANO DE UMA VARIAVEL**"
      ],
      "metadata": {
        "id": "hGiBjyopiXhr"
      }
    },
    {
      "cell_type": "code",
      "source": [
        "idade = 19\n",
        "blood_type =\"O-\"\n",
        "filhos = 0\n",
        "telefone_fixo = None\n",
        "celular = \"\"\n",
        "print(bool(idade))\n",
        "print(bool(blood_type))\n",
        "print(bool(filhos))\n",
        "print(bool(telefone_fixo))\n",
        "print(bool(celular))"
      ],
      "metadata": {
        "colab": {
          "base_uri": "https://localhost:8080/"
        },
        "id": "OYZYb9uOicdq",
        "outputId": "629e9a2a-535b-4a05-dfa1-8b67374aecc1"
      },
      "execution_count": 15,
      "outputs": [
        {
          "output_type": "stream",
          "name": "stdout",
          "text": [
            "True\n",
            "True\n",
            "False\n",
            "False\n",
            "False\n"
          ]
        }
      ]
    }
  ]
}