{
  "nbformat": 4,
  "nbformat_minor": 0,
  "metadata": {
    "colab": {
      "name": "python2.ipynb",
      "provenance": [],
      "collapsed_sections": [],
      "authorship_tag": "ABX9TyMYsTE6Blwg2F2aVvbaLalm",
      "include_colab_link": true
    },
    "kernelspec": {
      "name": "python3",
      "display_name": "Python 3"
    },
    "language_info": {
      "name": "python"
    }
  },
  "cells": [
    {
      "cell_type": "markdown",
      "metadata": {
        "id": "view-in-github",
        "colab_type": "text"
      },
      "source": [
        "<a href=\"https://colab.research.google.com/github/CassianoLanger/Python/blob/main/python2.ipynb\" target=\"_parent\"><img src=\"https://colab.research.google.com/assets/colab-badge.svg\" alt=\"Open In Colab\"/></a>"
      ]
    },
    {
      "cell_type": "markdown",
      "source": [
        "**Python básico 2** "
      ],
      "metadata": {
        "id": "QpuAlWMmy-Wg"
      }
    },
    {
      "cell_type": "markdown",
      "source": [
        "**Listas**"
      ],
      "metadata": {
        "id": "HRDhJPHmzHUs"
      }
    },
    {
      "cell_type": "code",
      "execution_count": null,
      "metadata": {
        "colab": {
          "base_uri": "https://localhost:8080/"
        },
        "id": "nfcNh8lTy6oQ",
        "outputId": "7c3b955e-71a6-4b43-8bea-6b8442d438bd"
      },
      "outputs": [
        {
          "output_type": "stream",
          "name": "stdout",
          "text": [
            "['Stan Lee', 'stan.lee', 'lee159', 'leestan@gmail.co,']\n",
            "<class 'list'>\n"
          ]
        }
      ],
      "source": [
        "web_user = [\"Stan Lee\" , \"stan.lee\", \"lee159\", \"leestan@gmail.co,\"]\n",
        "print(web_user)\n",
        "print(type(web_user))"
      ]
    },
    {
      "cell_type": "code",
      "source": [
        "age = 30\n",
        "balance = 150000.95\n",
        "loggedin = True\n",
        "web_user = [\"Stan Lee\" ,age, \"stan.lee\", \"lee159\", \"leestan@gmail.co,\",balance,loggedin]\n",
        "print(web_user)"
      ],
      "metadata": {
        "colab": {
          "base_uri": "https://localhost:8080/"
        },
        "id": "OMybEXRF0BBg",
        "outputId": "12636d55-0216-4af9-ac34-eb0b7004152b"
      },
      "execution_count": null,
      "outputs": [
        {
          "output_type": "stream",
          "name": "stdout",
          "text": [
            "['Stan Lee', 30, 'stan.lee', 'lee159', 'leestan@gmail.co,', 150000.95, True]\n"
          ]
        }
      ]
    },
    {
      "cell_type": "markdown",
      "source": [
        "**Concatenação**"
      ],
      "metadata": {
        "id": "Bt5IoFXj0zic"
      }
    },
    {
      "cell_type": "code",
      "source": [
        "us_mobile_companies = [\"apple\",\"motorola\"]\n",
        "china_mobile_companies = [\"xiaomi\",\"huawey\"]\n",
        "mobile_companies = us_mobile_companies + china_mobile_companies\n",
        "\n",
        "print(mobile_companies)"
      ],
      "metadata": {
        "colab": {
          "base_uri": "https://localhost:8080/"
        },
        "id": "rRtJJ5PT04AE",
        "outputId": "fb36594f-d675-4f91-e27f-9b82691a96cf"
      },
      "execution_count": null,
      "outputs": [
        {
          "output_type": "stream",
          "name": "stdout",
          "text": [
            "['apple', 'motorola', 'xiaomi', 'huawey']\n"
          ]
        }
      ]
    },
    {
      "cell_type": "markdown",
      "source": [
        "**Fatiamento e conversão**"
      ],
      "metadata": {
        "id": "I5FNvKOx2HNF"
      }
    },
    {
      "cell_type": "code",
      "source": [
        "usa_mobile_company = mobile_companies[0:2]\n",
        "ch_mobile_companies = mobile_companies[2:4]\n",
        "print(\"USA: \" + str(usa_mobile_company))\n",
        "print(\"China: \" + str(ch_mobile_companies))"
      ],
      "metadata": {
        "colab": {
          "base_uri": "https://localhost:8080/"
        },
        "id": "1TEiSUoB2PHb",
        "outputId": "6f271416-8f85-4133-8514-5c562b5e8066"
      },
      "execution_count": null,
      "outputs": [
        {
          "output_type": "stream",
          "name": "stdout",
          "text": [
            "USA: ['apple', 'motorola']\n",
            "China: ['xiaomi', 'huawey']\n"
          ]
        }
      ]
    },
    {
      "cell_type": "markdown",
      "source": [
        "**Modificação**"
      ],
      "metadata": {
        "id": "R4DJ_YPB3Lss"
      }
    },
    {
      "cell_type": "code",
      "source": [
        "mobile_companies[3] = \"samsung\"\n",
        "print(mobile_companies)"
      ],
      "metadata": {
        "colab": {
          "base_uri": "https://localhost:8080/"
        },
        "id": "oJ3WLyeZ3OGL",
        "outputId": "37a0ea04-42e7-4a2c-d1e8-3ecdfefe48ce"
      },
      "execution_count": null,
      "outputs": [
        {
          "output_type": "stream",
          "name": "stdout",
          "text": [
            "['apple', 'motorola', 'xiaomi', 'samsung']\n"
          ]
        }
      ]
    },
    {
      "cell_type": "markdown",
      "source": [
        "**Insert** "
      ],
      "metadata": {
        "id": "JeAQwYrS3zdf"
      }
    },
    {
      "cell_type": "code",
      "source": [
        "fees = [0.05 , 0.02 , 0.07 , 0.09 , 0.14]\n",
        "fees.insert(0, 0.10)\n",
        "print(fees)"
      ],
      "metadata": {
        "colab": {
          "base_uri": "https://localhost:8080/"
        },
        "id": "iHaE8WjL32by",
        "outputId": "49da03fd-45dc-4738-e80b-2dd624ccef98"
      },
      "execution_count": null,
      "outputs": [
        {
          "output_type": "stream",
          "name": "stdout",
          "text": [
            "[0.1, 0.05, 0.02, 0.07, 0.09, 0.14]\n"
          ]
        }
      ]
    },
    {
      "cell_type": "code",
      "source": [
        "fees.append(0.15)\n",
        "print(fees)"
      ],
      "metadata": {
        "colab": {
          "base_uri": "https://localhost:8080/"
        },
        "id": "-n9F1_t34k8V",
        "outputId": "a440e714-ee99-4a05-926d-2de580fceb38"
      },
      "execution_count": null,
      "outputs": [
        {
          "output_type": "stream",
          "name": "stdout",
          "text": [
            "[0.1, 0.05, 0.02, 0.07, 0.09, 0.14, 0.15]\n"
          ]
        }
      ]
    },
    {
      "cell_type": "markdown",
      "source": [
        "remover elemento pelo seu valor"
      ],
      "metadata": {
        "id": "uUGS4XA44wiI"
      }
    },
    {
      "cell_type": "code",
      "source": [
        "fees.remove(0.1)\n",
        "print(fees)"
      ],
      "metadata": {
        "colab": {
          "base_uri": "https://localhost:8080/"
        },
        "id": "c9RpOzVF4z-i",
        "outputId": "bcc2a5fb-b407-4e18-a259-71e02b174df3"
      },
      "execution_count": null,
      "outputs": [
        {
          "output_type": "stream",
          "name": "stdout",
          "text": [
            "[0.05, 0.02, 0.07, 0.09, 0.14, 0.15]\n"
          ]
        }
      ]
    },
    {
      "cell_type": "markdown",
      "source": [
        "removendo elemento pelo seu local"
      ],
      "metadata": {
        "id": "Gq2uubqJ5HyQ"
      }
    },
    {
      "cell_type": "code",
      "source": [
        "local_to_remove = fees.pop(2)\n",
        "print(local_to_remove)"
      ],
      "metadata": {
        "colab": {
          "base_uri": "https://localhost:8080/"
        },
        "id": "hzuAzALQ5K0Z",
        "outputId": "0150cb77-c96b-4d5e-b4d4-bb2b90dd2feb"
      },
      "execution_count": null,
      "outputs": [
        {
          "output_type": "stream",
          "name": "stdout",
          "text": [
            "0.09\n"
          ]
        }
      ]
    },
    {
      "cell_type": "code",
      "source": [
        "print(fees)"
      ],
      "metadata": {
        "colab": {
          "base_uri": "https://localhost:8080/"
        },
        "id": "xvCKkkKM5nCS",
        "outputId": "2d3058ce-7841-4fc3-c6c4-70a77b32c472"
      },
      "execution_count": null,
      "outputs": [
        {
          "output_type": "stream",
          "name": "stdout",
          "text": [
            "[0.05, 0.02, 0.07, 0.14, 0.15]\n"
          ]
        }
      ]
    },
    {
      "cell_type": "markdown",
      "source": [
        "**Transformando variavel em lista**"
      ],
      "metadata": {
        "id": "H4lqTqsM6TJR"
      }
    },
    {
      "cell_type": "code",
      "source": [
        "email = \"leestan@outlook.com\"\n",
        "character_email = list(email)\n",
        "print(character_email)"
      ],
      "metadata": {
        "colab": {
          "base_uri": "https://localhost:8080/"
        },
        "id": "vsR98FY66dJg",
        "outputId": "29d61514-865f-47ad-e2e0-fbcccedf9d29"
      },
      "execution_count": null,
      "outputs": [
        {
          "output_type": "stream",
          "name": "stdout",
          "text": [
            "['l', 'e', 'e', 's', 't', 'a', 'n', '@', 'o', 'u', 't', 'l', 'o', 'o', 'k', '.', 'c', 'o', 'm']\n"
          ]
        }
      ]
    },
    {
      "cell_type": "markdown",
      "source": [
        "Revisão da adição de elementos na lista"
      ],
      "metadata": {
        "id": "E6NlDfLX7RMO"
      }
    },
    {
      "cell_type": "code",
      "source": [
        "day_11_balance =[]\n",
        "day_11_balance.append(243)\n",
        "day_11_balance.append(-798.58)\n",
        "day_11_balance.append(427.12)\n",
        "day_11_balance.append(-10.91)"
      ],
      "metadata": {
        "id": "oc1R-zMH7eke"
      },
      "execution_count": null,
      "outputs": []
    },
    {
      "cell_type": "code",
      "source": [
        "initial_balance = 1000\n",
        "print(day_11_balance)"
      ],
      "metadata": {
        "colab": {
          "base_uri": "https://localhost:8080/"
        },
        "id": "D9dMvV968B4S",
        "outputId": "b356551f-f2de-4971-87fa-845055d050ae"
      },
      "execution_count": null,
      "outputs": [
        {
          "output_type": "stream",
          "name": "stdout",
          "text": [
            "[243, -798.58, 427.12, -10.91]\n"
          ]
        }
      ]
    },
    {
      "cell_type": "code",
      "source": [
        "day_11_balance_final = initial_balance + day_11_balance[0] + day_11_balance[1] + day_11_balance[2] + day_11_balance[3]\n",
        "print(day_11_balance_final)"
      ],
      "metadata": {
        "colab": {
          "base_uri": "https://localhost:8080/"
        },
        "id": "aRn6Ys-98GFK",
        "outputId": "7f199ce6-f2a0-4b75-ffc5-1dfff1f8b33a"
      },
      "execution_count": null,
      "outputs": [
        {
          "output_type": "stream",
          "name": "stdout",
          "text": [
            "860.63\n"
          ]
        }
      ]
    },
    {
      "cell_type": "markdown",
      "source": [
        "**Conjuntos**"
      ],
      "metadata": {
        "id": "GsP7vVdGgxJo"
      }
    },
    {
      "cell_type": "code",
      "source": [
        "frutas = {\"uva\" , \"laranja\", \"manga\", \"uva\"}\n",
        "print(frutas)\n",
        "print(type(frutas))"
      ],
      "metadata": {
        "colab": {
          "base_uri": "https://localhost:8080/"
        },
        "id": "2B5gV09vgyyg",
        "outputId": "4b54799c-4904-41f9-95f3-ea9326e813a0"
      },
      "execution_count": null,
      "outputs": [
        {
          "output_type": "stream",
          "name": "stdout",
          "text": [
            "{'laranja', 'uva', 'manga'}\n",
            "<class 'set'>\n"
          ]
        }
      ]
    },
    {
      "cell_type": "code",
      "source": [
        "north_european = {\"reino unido\", \"suécia\", \"russia\",\"noruega\",\"dinamarca\"}\n",
        "escandinavia = {\"noruega\", \"dinamarca\", \"suécia\"}\n",
        "nao_escandinavos = north_european - escandinavia\n",
        "print(nao_escandinavos)"
      ],
      "metadata": {
        "colab": {
          "base_uri": "https://localhost:8080/"
        },
        "id": "jnX9gVhkh5Bn",
        "outputId": "9ff1a76d-62d9-44a9-b4db-b8a53e55693c"
      },
      "execution_count": null,
      "outputs": [
        {
          "output_type": "stream",
          "name": "stdout",
          "text": [
            "{'russia', 'reino unido'}\n"
          ]
        }
      ]
    },
    {
      "cell_type": "code",
      "source": [
        "cursos= {\"Biologia\", \"Matemática\", \"Física\"}\n",
        "cursos.add(\"Saúde\")\n",
        "print(cursos)"
      ],
      "metadata": {
        "colab": {
          "base_uri": "https://localhost:8080/"
        },
        "id": "-_5LNZuZjsFJ",
        "outputId": "e5d94d7d-ebdb-41e4-d347-3f522171c717"
      },
      "execution_count": null,
      "outputs": [
        {
          "output_type": "stream",
          "name": "stdout",
          "text": [
            "{'Biologia', 'Saúde', 'Física', 'Matemática'}\n"
          ]
        }
      ]
    },
    {
      "cell_type": "code",
      "source": [
        "cursos.remove(\"Saúde\")\n",
        "print(cursos)"
      ],
      "metadata": {
        "colab": {
          "base_uri": "https://localhost:8080/"
        },
        "id": "AdiMrONij_7r",
        "outputId": "69badddc-2dec-4d05-b051-af0054399e8c"
      },
      "execution_count": null,
      "outputs": [
        {
          "output_type": "stream",
          "name": "stdout",
          "text": [
            "{'Biologia', 'Física', 'Matemática'}\n"
          ]
        }
      ]
    },
    {
      "cell_type": "code",
      "source": [
        "hashtag_monday =[\"#Justice4Depp\", \"#bbb\", \"#HP\"]\n",
        "hashtag_tuesday =[\"#Justice4Depp\", \"#Amber\", \"#Twitch\"]\n",
        "hashtag_wednesday =[\"#Justice4Depp\", \"#Disney\", \"#HBOMax\"]\n",
        "hashtag_thursday =[\"#Justice4Depp\", \"#ElonMusk\", \"#HBO\"]\n",
        "hashtag_friday =[\"#Justice4Depp\", \"#Youtube\", \"#HP\"]\n",
        "\n",
        "hashtag_week =  hashtag_monday+hashtag_tuesday + hashtag_wednesday + hashtag_thursday + hashtag_friday\n",
        "print(hashtag_week)\n",
        "print(len(hashtag_week))\n",
        "\n",
        "hashtag = list(set(hashtag_monday+hashtag_tuesday + hashtag_wednesday + hashtag_thursday + hashtag_friday))\n",
        "print(hashtag)\n",
        "print(len(hashtag))"
      ],
      "metadata": {
        "colab": {
          "base_uri": "https://localhost:8080/"
        },
        "id": "-YUHjMTumr8L",
        "outputId": "6c23a6a4-096e-4721-f346-18b6faede63b"
      },
      "execution_count": null,
      "outputs": [
        {
          "output_type": "stream",
          "name": "stdout",
          "text": [
            "['#Justice4Depp', '#bbb', '#HP', '#Justice4Depp', '#Amber', '#Twitch', '#Justice4Depp', '#Disney', '#HBOMax', '#Justice4Depp', '#ElonMusk', '#HBO', '#Justice4Depp', '#Youtube', '#HP']\n",
            "15\n",
            "['#Twitch', '#HBOMax', '#HP', '#Youtube', '#bbb', '#HBO', '#Amber', '#ElonMusk', '#Justice4Depp', '#Disney']\n",
            "10\n"
          ]
        }
      ]
    },
    {
      "cell_type": "markdown",
      "source": [
        "**Dicionário**"
      ],
      "metadata": {
        "id": "mJQs8bfv96kY"
      }
    },
    {
      "cell_type": "code",
      "source": [
        "brasil = {\"capital\" : \"Brasilia\", \"idioma\" : \"Portugues\", \"população\" : 3000000}\n",
        "print(brasil)\n",
        "print(type(brasil))"
      ],
      "metadata": {
        "colab": {
          "base_uri": "https://localhost:8080/"
        },
        "id": "2MU8yueQ-Ahr",
        "outputId": "51ba4bce-3e85-4fb5-da22-a69dc90d6e8d"
      },
      "execution_count": 2,
      "outputs": [
        {
          "output_type": "stream",
          "name": "stdout",
          "text": [
            "{'capital': 'Brasilia', 'idioma': 'Portugues', 'população': 3000000}\n",
            "<class 'dict'>\n"
          ]
        }
      ]
    },
    {
      "cell_type": "code",
      "source": [
        "carro = {\n",
        "    \"marca\" : \"fiat\",\n",
        "    \"modelo\" : \"uno\",\n",
        "    \"ano\" : 2021,\n",
        "    \"ano\" : 2022\n",
        "}\n",
        "print(carro)"
      ],
      "metadata": {
        "colab": {
          "base_uri": "https://localhost:8080/"
        },
        "id": "cccJMyCL-9e5",
        "outputId": "4fa58fc4-6533-41a0-8e50-c9208125c604"
      },
      "execution_count": 3,
      "outputs": [
        {
          "output_type": "stream",
          "name": "stdout",
          "text": [
            "{'marca': 'fiat', 'modelo': 'uno', 'ano': 2022}\n"
          ]
        }
      ]
    },
    {
      "cell_type": "code",
      "source": [
        "cadastro = {\n",
        "    \"andre\":{\n",
        "    \"nome\" : \"Andre Perez\",\n",
        "    \"ano_nascimento\" : 1996,\n",
        "    \"pais\" : {\n",
        "        \"pai\" :{\n",
        "            \"nome\" : \"<nome_do_pai> Perez\",\n",
        "            \"ano_nascimento\" : 1965,\n",
        "        },\n",
        "        \"mae\" :{\n",
        "            \"nome\" : \"<nome_da_mae> Perez\",\n",
        "            \"ano_nascimento\" : 1967,\n",
        "               } \n",
        "             }\n",
        "            }   \n",
        "}\n",
        "\n",
        "print(cadastro)"
      ],
      "metadata": {
        "colab": {
          "base_uri": "https://localhost:8080/"
        },
        "id": "43KFoW5nAABt",
        "outputId": "58900e7a-061c-46fe-93ce-a9416065e1ab"
      },
      "execution_count": 5,
      "outputs": [
        {
          "output_type": "stream",
          "name": "stdout",
          "text": [
            "{'andre': {'nome': 'Andre Perez', 'ano_nascimento': 1996, 'pais': {'pai': {'nome': '<nome_do_pai> Perez', 'ano_nascimento': 1965}, 'mae': {'nome': '<nome_da_mae> Perez', 'ano_nascimento': 1967}}}}\n"
          ]
        }
      ]
    },
    {
      "cell_type": "code",
      "source": [
        "cadastro[\"andre\"][\"pais\"]['mae'][\"ano_nascimento\"]"
      ],
      "metadata": {
        "colab": {
          "base_uri": "https://localhost:8080/"
        },
        "id": "vZqbEfVgB9Ky",
        "outputId": "17a084ed-e9cb-4882-ad3d-65d75c8a2def"
      },
      "execution_count": 6,
      "outputs": [
        {
          "output_type": "execute_result",
          "data": {
            "text/plain": [
              "1967"
            ]
          },
          "metadata": {},
          "execution_count": 6
        }
      ]
    },
    {
      "cell_type": "code",
      "source": [
        "credito = {\"029.065.852-35\" : 750 , \"123.654.852-36\" : 900}\n",
        "score_029 = credito[\"029.065.852-35\"]\n",
        "score_123 = credito[\"123.654.852-36\"]\n",
        "\n",
        "print(score_029)\n",
        "print(score_123)"
      ],
      "metadata": {
        "colab": {
          "base_uri": "https://localhost:8080/"
        },
        "id": "Uka4A4pJCvWe",
        "outputId": "3e5e8a00-5a2d-43d9-b181-b70aa6426540"
      },
      "execution_count": 8,
      "outputs": [
        {
          "output_type": "stream",
          "name": "stdout",
          "text": [
            "750\n",
            "900\n"
          ]
        }
      ]
    },
    {
      "cell_type": "code",
      "source": [
        "credito['029.065.852-35'] = 600\n",
        "print(credito)"
      ],
      "metadata": {
        "colab": {
          "base_uri": "https://localhost:8080/"
        },
        "id": "bW4mklTHDtFR",
        "outputId": "b1f2f057-15f9-4ede-dc3f-d18c28fb264e"
      },
      "execution_count": 9,
      "outputs": [
        {
          "output_type": "stream",
          "name": "stdout",
          "text": [
            "{'029.065.852-35': 600, '123.654.852-36': 900}\n"
          ]
        }
      ]
    },
    {
      "cell_type": "code",
      "source": [
        "credito[\"987.658.942-98\"] = 863\n",
        "print(credito)"
      ],
      "metadata": {
        "colab": {
          "base_uri": "https://localhost:8080/"
        },
        "id": "u7TufNHwD2HR",
        "outputId": "9d3a76f7-3398-408c-bbbc-ab237ae6d16e"
      },
      "execution_count": 10,
      "outputs": [
        {
          "output_type": "stream",
          "name": "stdout",
          "text": [
            "{'029.065.852-35': 600, '123.654.852-36': 900, '987.658.942-98': 863}\n"
          ]
        }
      ]
    },
    {
      "cell_type": "markdown",
      "source": [
        "**Outra maneira para dicionarios**"
      ],
      "metadata": {
        "id": "TGO3Mh2EEwrV"
      }
    },
    {
      "cell_type": "code",
      "source": [
        "artigo=dict(\n",
        "    titulo = \"Modulo 02 | Python: Estrutura de Dados\",\n",
        "    corpo = \"Topicos, Aulas, Listas, Conjuntos, Dicionarios\",\n",
        "    total_caracteres = 1530\n",
        ")"
      ],
      "metadata": {
        "id": "_jQVDU5NE3DM"
      },
      "execution_count": 11,
      "outputs": []
    },
    {
      "cell_type": "code",
      "source": [
        "artigo.update({'total_caracteres' : 7530})\n",
        "artigo[\"total_caracteres\"]"
      ],
      "metadata": {
        "colab": {
          "base_uri": "https://localhost:8080/"
        },
        "id": "HAEDnNDZG9uk",
        "outputId": "4eb20a8c-bf46-4856-83b4-e5693a5f3d03"
      },
      "execution_count": 15,
      "outputs": [
        {
          "output_type": "execute_result",
          "data": {
            "text/plain": [
              "7530"
            ]
          },
          "metadata": {},
          "execution_count": 15
        }
      ]
    },
    {
      "cell_type": "code",
      "source": [
        "chaves = list(artigo.keys())\n",
        "print(chaves)\n",
        "print(type(chaves))"
      ],
      "metadata": {
        "colab": {
          "base_uri": "https://localhost:8080/"
        },
        "id": "Y1_bu367Fwni",
        "outputId": "96ffe7cd-d752-4d7c-b4a9-d0f08ef74d9e"
      },
      "execution_count": 13,
      "outputs": [
        {
          "output_type": "stream",
          "name": "stdout",
          "text": [
            "['titulo', 'corpo', 'total_caracteres']\n",
            "<class 'list'>\n"
          ]
        }
      ]
    },
    {
      "cell_type": "code",
      "source": [
        "valores = list(artigo.values())\n",
        "\n",
        "print(valores)\n",
        "print(type(valores))"
      ],
      "metadata": {
        "colab": {
          "base_uri": "https://localhost:8080/"
        },
        "id": "fsI-cLoyGMI4",
        "outputId": "1d1897fb-1fe5-4a33-8265-b2b7728e6f00"
      },
      "execution_count": 14,
      "outputs": [
        {
          "output_type": "stream",
          "name": "stdout",
          "text": [
            "['Modulo 02 | Python: Estrutura de Dados', 'Topicos, Aulas, Listas, Conjuntos, Dicionarios', 1530]\n",
            "<class 'list'>\n"
          ]
        }
      ]
    },
    {
      "cell_type": "code",
      "source": [
        "print(artigo)\n",
        "total_caracteres = artigo.pop('total_caracteres')\n",
        "print(artigo)"
      ],
      "metadata": {
        "colab": {
          "base_uri": "https://localhost:8080/"
        },
        "id": "bg8Dakp_H2_Y",
        "outputId": "d3c392dc-8958-420c-fe48-fddb6e409700"
      },
      "execution_count": 16,
      "outputs": [
        {
          "output_type": "stream",
          "name": "stdout",
          "text": [
            "{'titulo': 'Modulo 02 | Python: Estrutura de Dados', 'corpo': 'Topicos, Aulas, Listas, Conjuntos, Dicionarios', 'total_caracteres': 7530}\n",
            "{'titulo': 'Modulo 02 | Python: Estrutura de Dados', 'corpo': 'Topicos, Aulas, Listas, Conjuntos, Dicionarios'}\n"
          ]
        }
      ]
    },
    {
      "cell_type": "markdown",
      "source": [
        "**exercicio**"
      ],
      "metadata": {
        "id": "OkbK6qdZI0xi"
      }
    },
    {
      "cell_type": "code",
      "source": [
        "wifi_disponivel = []\n",
        "rede = {\n",
        "    \"nome\":\"rede1\",\n",
        "    \"senha\":\"1597\"\n",
        "}\n",
        "wifi_disponivel.append(rede)\n",
        "\n",
        "rede = {\n",
        "    \"nome\":\"rede2\",\n",
        "    \"senha\":\"7946\"\n",
        "}\n",
        "wifi_disponivel.append(rede)\n",
        "\n",
        "print(wifi_disponivel)"
      ],
      "metadata": {
        "colab": {
          "base_uri": "https://localhost:8080/"
        },
        "id": "785_Uwb5I0Kk",
        "outputId": "3407dd6a-7aca-41a8-f66b-2c21d1c5caa4"
      },
      "execution_count": 17,
      "outputs": [
        {
          "output_type": "stream",
          "name": "stdout",
          "text": [
            "[{'nome': 'rede1', 'senha': '1597'}, {'nome': 'rede2', 'senha': '7946'}]\n"
          ]
        }
      ]
    }
  ]
}